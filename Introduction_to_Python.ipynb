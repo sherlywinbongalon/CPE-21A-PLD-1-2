{
  "nbformat": 4,
  "nbformat_minor": 0,
  "metadata": {
    "colab": {
      "provenance": [],
      "authorship_tag": "ABX9TyP4BBcO9MmmjJfX11X0c5Gx",
      "include_colab_link": true
    },
    "kernelspec": {
      "name": "python3",
      "display_name": "Python 3"
    },
    "language_info": {
      "name": "python"
    }
  },
  "cells": [
    {
      "cell_type": "markdown",
      "metadata": {
        "id": "view-in-github",
        "colab_type": "text"
      },
      "source": [
        "<a href=\"https://colab.research.google.com/github/sherlywinbongalon/CPE-21A-PLD-1-2/blob/main/Introduction_to_Python.ipynb\" target=\"_parent\"><img src=\"https://colab.research.google.com/assets/colab-badge.svg\" alt=\"Open In Colab\"/></a>"
      ]
    },
    {
      "cell_type": "markdown",
      "source": [
        "#Identation"
      ],
      "metadata": {
        "id": "qxsbD1VLUciO"
      }
    },
    {
      "cell_type": "code",
      "execution_count": 5,
      "metadata": {
        "colab": {
          "base_uri": "https://localhost:8080/"
        },
        "id": "d3zRgGtiUNt1",
        "outputId": "9e4246db-8661-422c-e89f-46b75ce07c20"
      },
      "outputs": [
        {
          "output_type": "stream",
          "name": "stdout",
          "text": [
            "5 is greater than 3\n"
          ]
        }
      ],
      "source": [
        "if 5>3:\n",
        "  print(\"5 is greater than 3\") #This is a comment"
      ]
    },
    {
      "cell_type": "markdown",
      "source": [
        "# Variable Declaration"
      ],
      "metadata": {
        "id": "sCMOznAUVCU7"
      }
    },
    {
      "cell_type": "code",
      "source": [
        "#variable with a single value\n",
        "x=5\n",
        "y=3\n",
        "if x <y:\n",
        "  print(\"x is greater than y\")\n",
        "else: \n",
        "  print(\"y is greater than x\")\n",
        "\n",
        "#Variable with multiple values\n",
        "\n",
        "a,b = 1,2\n",
        "print(\"The value of a is\",a)\n",
        "print(\"The value of b is\",b)\n",
        "\n",
        "#Multiple Variables with single value\n",
        "\n",
        "p = q = r = 'Mam'\n",
        "print(p)\n",
        "print(q)\n",
        "print(r)\n"
      ],
      "metadata": {
        "colab": {
          "base_uri": "https://localhost:8080/"
        },
        "id": "bcTXyRXaVBbA",
        "outputId": "a37f3eed-3c4d-47c1-827c-3925c15d0dd8"
      },
      "execution_count": 17,
      "outputs": [
        {
          "output_type": "stream",
          "name": "stdout",
          "text": [
            "y is greater than x\n",
            "The value of a is 1\n",
            "The value of b is 2\n",
            "Mam\n",
            "Mam\n",
            "Mam\n"
          ]
        }
      ]
    },
    {
      "cell_type": "markdown",
      "source": [
        "#Output Variable"
      ],
      "metadata": {
        "id": "DolIkrFGnwra"
      }
    },
    {
      "cell_type": "code",
      "source": [
        "o = \"is enjoying\"\n",
        "print(\"Python programming\"+\" \"+ o) # append is enjoying"
      ],
      "metadata": {
        "colab": {
          "base_uri": "https://localhost:8080/"
        },
        "id": "-w3J8ywrnz2J",
        "outputId": "c1a3c20f-123e-48f8-ddf1-14d1904e4267"
      },
      "execution_count": 22,
      "outputs": [
        {
          "output_type": "stream",
          "name": "stdout",
          "text": [
            "Python programming is enjoying\n"
          ]
        }
      ]
    },
    {
      "cell_type": "markdown",
      "source": [
        "#Casting and Type() function"
      ],
      "metadata": {
        "id": "4E6a7qu4XI1w"
      }
    },
    {
      "cell_type": "code",
      "source": [
        "f = int(4) #Integer\n",
        "g=float(4) #decimal/fractional\n",
        "\n",
        "print(f)\n",
        "print(g)\n",
        "\n",
        "print(type(f))\n",
        "print(type(g))"
      ],
      "metadata": {
        "colab": {
          "base_uri": "https://localhost:8080/"
        },
        "id": "ml2aPsrdiZD4",
        "outputId": "ba648c54-0786-46c1-f27b-3fd358d56b5e"
      },
      "execution_count": 13,
      "outputs": [
        {
          "output_type": "stream",
          "name": "stdout",
          "text": [
            "4\n",
            "4.0\n",
            "<class 'int'>\n",
            "<class 'float'>\n"
          ]
        }
      ]
    },
    {
      "cell_type": "markdown",
      "source": [
        "#Double quote or single quote"
      ],
      "metadata": {
        "id": "tAEJyJJKjRAQ"
      }
    },
    {
      "cell_type": "code",
      "source": [
        "name = \"Maria\"\n",
        "name1 = 'Rizette'\n",
        "\n",
        "print(name)\n",
        "print(name1)\n"
      ],
      "metadata": {
        "colab": {
          "base_uri": "https://localhost:8080/"
        },
        "id": "zJvBbI0GjYXd",
        "outputId": "006be960-feef-45c7-e503-8a4a778aab72"
      },
      "execution_count": 15,
      "outputs": [
        {
          "output_type": "stream",
          "name": "stdout",
          "text": [
            "Maria\n",
            "Rizette\n"
          ]
        }
      ]
    },
    {
      "cell_type": "markdown",
      "source": [
        "#Case Sensitive"
      ],
      "metadata": {
        "id": "F4J5O0ewkKKF"
      }
    },
    {
      "cell_type": "code",
      "source": [
        "a = \"ana\"\n",
        "print(a)"
      ],
      "metadata": {
        "colab": {
          "base_uri": "https://localhost:8080/"
        },
        "id": "6hFHjqX_kOK_",
        "outputId": "b8a9ad2b-5238-41ca-d4da-c6f7fb8a713f"
      },
      "execution_count": 16,
      "outputs": [
        {
          "output_type": "stream",
          "name": "stdout",
          "text": [
            "ana\n"
          ]
        }
      ]
    }
  ]
}