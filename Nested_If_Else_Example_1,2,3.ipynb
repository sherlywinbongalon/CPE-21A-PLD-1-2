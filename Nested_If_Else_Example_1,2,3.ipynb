{
  "cells": [
    {
      "cell_type": "markdown",
      "metadata": {
        "id": "view-in-github",
        "colab_type": "text"
      },
      "source": [
        "<a href=\"https://colab.research.google.com/github/sherlywinbongalon/CPE-21A-PLD-1-2/blob/main/Nested_If_Else_Example_1%2C2%2C3.ipynb\" target=\"_parent\"><img src=\"https://colab.research.google.com/assets/colab-badge.svg\" alt=\"Open In Colab\"/></a>"
      ]
    },
    {
      "cell_type": "markdown",
      "source": [
        "##Example 1"
      ],
      "metadata": {
        "id": "qJdyCK7kYgGA"
      }
    },
    {
      "cell_type": "code",
      "source": [
        "age = int(input(\"age: \"))\n",
        "if age >= 18 and age <=150:\n",
        "  print(\" Qualified to vote\")\n",
        "elif age <= 17 and age >= 1:\n",
        "  print(\"Not qualified to vote\")\n",
        "else:\n",
        "  print(\"Invaid age\")\n"
      ],
      "metadata": {
        "colab": {
          "base_uri": "https://localhost:8080/"
        },
        "outputId": "2ee610ba-ad1b-41e5-86d1-1524b49100f3",
        "id": "eNQJ5PFCYq2V"
      },
      "execution_count": 106,
      "outputs": [
        {
          "output_type": "stream",
          "name": "stdout",
          "text": [
            "age: 18\n",
            " Qualified to vote\n"
          ]
        }
      ]
    },
    {
      "cell_type": "markdown",
      "source": [
        "##Example 2"
      ],
      "metadata": {
        "id": "b82UArThYt2K"
      }
    },
    {
      "cell_type": "code",
      "source": [
        "print(\"Enter an Integer: \")\n",
        "number = int(input())\n",
        "if number >=1 and number >=0:\n",
        "  print(\"POSITIVE\")\n",
        "elif number == 0:\n",
        "  print(\"POSITIVE\")\n",
        "else:\n",
        "  print(\"NEGATIVE\")"
      ],
      "metadata": {
        "colab": {
          "base_uri": "https://localhost:8080/"
        },
        "outputId": "57d71404-4bff-4a2f-d6cb-b97cac02503f",
        "id": "Pf1z2_PIY1sX"
      },
      "execution_count": 109,
      "outputs": [
        {
          "output_type": "stream",
          "name": "stdout",
          "text": [
            "Enter an Integer: \n",
            "-9\n",
            "NEGATIVE\n"
          ]
        }
      ]
    },
    {
      "cell_type": "markdown",
      "source": [
        "##Example 3"
      ],
      "metadata": {
        "id": "uISfdRgCY4t6"
      }
    },
    {
      "cell_type": "code",
      "source": [
        "grade = int(input(\"Your grade: \"))\n",
        "if grade >= 75 and grade <=100:\n",
        "  print(\"Passed\")\n",
        "elif grade == 74:\n",
        "  print(\"Remedial\")\n",
        "elif grade > 0 and grade < 74:\n",
        "  print(\"Failed\")\n",
        "else:\n",
        "  print(\"Not accepted\")"
      ],
      "metadata": {
        "colab": {
          "base_uri": "https://localhost:8080/"
        },
        "outputId": "9e651582-e9fa-4f1b-cfab-9a0d2290a799",
        "id": "UcmGySMvKsmL"
      },
      "execution_count": 117,
      "outputs": [
        {
          "output_type": "stream",
          "name": "stdout",
          "text": [
            "Your grade: 75\n",
            "Passed\n"
          ]
        }
      ]
    }
  ],
  "metadata": {
    "colab": {
      "provenance": [],
      "authorship_tag": "ABX9TyM9+03UhWWsPMCisNBDbj1/",
      "include_colab_link": true
    },
    "kernelspec": {
      "display_name": "Python 3",
      "name": "python3"
    },
    "language_info": {
      "name": "python"
    }
  },
  "nbformat": 4,
  "nbformat_minor": 0
}