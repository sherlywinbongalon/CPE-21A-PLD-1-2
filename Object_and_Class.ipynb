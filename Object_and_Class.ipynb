{
  "nbformat": 4,
  "nbformat_minor": 0,
  "metadata": {
    "colab": {
      "provenance": [],
      "authorship_tag": "ABX9TyNX3TsJVPotpH3NCwhbbwbD",
      "include_colab_link": true
    },
    "kernelspec": {
      "name": "python3",
      "display_name": "Python 3"
    },
    "language_info": {
      "name": "python"
    }
  },
  "cells": [
    {
      "cell_type": "markdown",
      "metadata": {
        "id": "view-in-github",
        "colab_type": "text"
      },
      "source": [
        "<a href=\"https://colab.research.google.com/github/sherlywinbongalon/CPE-21A-PLD-1-2/blob/main/Object_and_Class.ipynb\" target=\"_parent\"><img src=\"https://colab.research.google.com/assets/colab-badge.svg\" alt=\"Open In Colab\"/></a>"
      ]
    },
    {
      "cell_type": "code",
      "source": [
        "class Person:\n",
        " def __init__(self,name,age,birthdate): #object and class constructor\n",
        "\n",
        "  self.name = name\n",
        "  self.age = age\n",
        "  self.birthdate = birthdate\n",
        "\n",
        " def info(self):\n",
        "  return \"My personal info are all here\" #method constructor\n",
        "\n",
        "class Student(Person): #inheritance\n",
        " pass\n",
        "\n",
        "person = Student(\"Ana\",28,\"January 4, 1996\")  ##naming object\n",
        "print(person.info())"
      ],
      "metadata": {
        "colab": {
          "base_uri": "https://localhost:8080/"
        },
        "id": "JXAmXlbWMVGG",
        "outputId": "4f62aac4-f70b-4598-c280-4ba66e60a211"
      },
      "execution_count": null,
      "outputs": [
        {
          "output_type": "stream",
          "name": "stdout",
          "text": [
            "My personal info are all here\n"
          ]
        }
      ]
    },
    {
      "cell_type": "markdown",
      "source": [
        "#EXERCISE #1"
      ],
      "metadata": {
        "id": "oZAx7SEu2wO6"
      }
    },
    {
      "cell_type": "code",
      "source": [
        "class Shape:\n",
        " def __init__(self,length,width):\n",
        "\n",
        "  self.length = length\n",
        "  self.width = width\n",
        "\n",
        " def info(self):\n",
        "  return \"The Shape has the length of 4cm and width of 4cm\"\n",
        "\n",
        " def perimeter(self):\n",
        "  print(\"Perimeter:\", 2*(self.length + self.width))\n",
        "\n",
        " def area(self):\n",
        "  print(\"Area:\", self.width*self.length)\n",
        "\n",
        "class Rectangle(Shape):\n",
        " pass\n",
        "\n",
        "rectangle = Shape(7,4)\n",
        "\n",
        "rectangle.perimeter()\n",
        "rectangle.area()"
      ],
      "metadata": {
        "id": "YTAplEJ8O2NB",
        "colab": {
          "base_uri": "https://localhost:8080/"
        },
        "outputId": "e4faeca1-e789-4ec5-c97e-23ff6ee5df91"
      },
      "execution_count": null,
      "outputs": [
        {
          "output_type": "stream",
          "name": "stdout",
          "text": [
            "Perimeter: 22\n",
            "Area: 28\n"
          ]
        }
      ]
    },
    {
      "cell_type": "code",
      "source": [
        "#Exercise 1\n",
        "# Write a Python program that:\n",
        "# Use Shape as a parent class, Rectangle as a child class with length and width attributes\n",
        "# Use Perimeter() and Area() as methods to compute for the perimeter and area of the rectangle"
      ],
      "metadata": {
        "id": "P7S_fZX6E3bM"
      },
      "execution_count": null,
      "outputs": []
    }
  ]
}