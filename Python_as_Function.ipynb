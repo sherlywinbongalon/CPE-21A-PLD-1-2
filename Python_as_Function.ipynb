{
  "nbformat": 4,
  "nbformat_minor": 0,
  "metadata": {
    "colab": {
      "provenance": [],
      "authorship_tag": "ABX9TyNQj3F9Yj/zNl/KV1eg6/yl",
      "include_colab_link": true
    },
    "kernelspec": {
      "name": "python3",
      "display_name": "Python 3"
    },
    "language_info": {
      "name": "python"
    }
  },
  "cells": [
    {
      "cell_type": "markdown",
      "metadata": {
        "id": "view-in-github",
        "colab_type": "text"
      },
      "source": [
        "<a href=\"https://colab.research.google.com/github/sherlywinbongalon/CPE-21A-PLD-1-2/blob/main/Python_as_Function.ipynb\" target=\"_parent\"><img src=\"https://colab.research.google.com/assets/colab-badge.svg\" alt=\"Open In Colab\"/></a>"
      ]
    },
    {
      "cell_type": "code",
      "source": [
        "\n",
        "#Function Calls\n",
        "abs(-4.5)"
      ],
      "metadata": {
        "colab": {
          "base_uri": "https://localhost:8080/"
        },
        "id": "tVhcsSiji2Zd",
        "outputId": "964d8cb0-d192-4f3a-b177-39f291b8a86e"
      },
      "execution_count": 29,
      "outputs": [
        {
          "output_type": "execute_result",
          "data": {
            "text/plain": [
              "4.5"
            ]
          },
          "metadata": {},
          "execution_count": 29
        }
      ]
    },
    {
      "cell_type": "code",
      "source": [
        "#Function falls others function\n",
        "\n",
        "pow(abs(-2),round(4.5))  #pow(2,4)"
      ],
      "metadata": {
        "colab": {
          "base_uri": "https://localhost:8080/"
        },
        "id": "tVmUv4XwjBfX",
        "outputId": "f4f87d55-97b4-4c2e-d924-14eebc402a83"
      },
      "execution_count": 4,
      "outputs": [
        {
          "output_type": "execute_result",
          "data": {
            "text/plain": [
              "16"
            ]
          },
          "metadata": {},
          "execution_count": 4
        }
      ]
    },
    {
      "cell_type": "code",
      "source": [
        "#Type code function\n",
        "\n",
        "int(4.5)\n",
        "float(4)"
      ],
      "metadata": {
        "colab": {
          "base_uri": "https://localhost:8080/"
        },
        "id": "XTisOzwEjYrD",
        "outputId": "700d12aa-8f8e-4142-9796-ed231dd3ba98"
      },
      "execution_count": 5,
      "outputs": [
        {
          "output_type": "execute_result",
          "data": {
            "text/plain": [
              "4.0"
            ]
          },
          "metadata": {},
          "execution_count": 5
        }
      ]
    },
    {
      "cell_type": "code",
      "source": [
        "#Defining own function\n",
        "\n",
        "def convert_to_celsius(fahrenheit):\n",
        " celsius = (fahrenheit-32)*5/9\n",
        " return celsius\n",
        " \n",
        "fahrenheit = float(input(\"Enter a number in fahrenheit:\"))\n",
        "\n",
        "f=convert_to_celsius(fahrenheit)\n",
        "print(round(f,2))"
      ],
      "metadata": {
        "colab": {
          "base_uri": "https://localhost:8080/"
        },
        "id": "33Ch5JjNjguG",
        "outputId": "ccc5f809-d451-43d2-83a1-3a4eec3f51c5"
      },
      "execution_count": 26,
      "outputs": [
        {
          "output_type": "stream",
          "name": "stdout",
          "text": [
            "Enter a number in fahrenheit:100\n",
            "37.78\n"
          ]
        }
      ]
    },
    {
      "cell_type": "code",
      "source": [
        "#Exercise\n",
        "\n",
        "a=min(2,3,4)\n",
        "b=max(2,-3,4,-7,5)\n",
        "c=max(2,-3,min(4,7),-5)\n",
        "print(\"a =\",a)\n",
        "print(\"b =\",b)\n",
        "print(\"c =\",c)"
      ],
      "metadata": {
        "colab": {
          "base_uri": "https://localhost:8080/"
        },
        "id": "pP55-waKtyDe",
        "outputId": "9a9c1964-efdb-4677-972e-8d0374d5a565"
      },
      "execution_count": 42,
      "outputs": [
        {
          "output_type": "stream",
          "name": "stdout",
          "text": [
            "a = 2\n",
            "b = 5\n",
            "c = 4\n"
          ]
        }
      ]
    }
  ]
}